{
 "cells": [
  {
   "cell_type": "markdown",
   "metadata": {},
   "source": [
    "### Modelo"
   ]
  },
  {
   "cell_type": "code",
   "execution_count": 13,
   "metadata": {},
   "outputs": [],
   "source": [
    "from dotenv import load_dotenv\n",
    "from langchain_openai import ChatOpenAI\n",
    "\n",
    "load_dotenv()\n",
    "model = ChatOpenAI(model=\"gpt-4o\")"
   ]
  },
  {
   "cell_type": "markdown",
   "metadata": {},
   "source": [
    "### Tools"
   ]
  },
  {
   "cell_type": "code",
   "execution_count": 44,
   "metadata": {},
   "outputs": [],
   "source": [
    "from langchain.agents import Tool\n",
    "\n",
    "# Tool 1\n",
    "def tool_1_template(pregunta):\n",
    "    return f\"\"\"\n",
    "            Conoces en detalle las velocidades radiales de las estrellas en la galaxia. Responde la pregunta: {pregunta}\n",
    "            \"\"\"\n",
    "\n",
    "def seller_vehicles(input=\"\"):\n",
    "    prompt = tool_1_template(input)\n",
    "    response = model(prompt)\n",
    "    return response\n",
    "\n",
    "seller_tool = Tool(\n",
    "    name = \"velocidades_estrellas\",\n",
    "    func = seller_vehicles,\n",
    "    description = \"Conoces las estrellas de la galaxia y te especializas en velocidades radiales. Responde como si se lo explicaras a un niño interesado en ciencia.\"\n",
    ")\n",
    "\n",
    "# Tool 2"
   ]
  },
  {
   "cell_type": "code",
   "execution_count": null,
   "metadata": {},
   "outputs": [],
   "source": [
    "¿Cuál es la velocidad radial de una estrella en relación con el Sol?"
   ]
  },
  {
   "cell_type": "markdown",
   "metadata": {},
   "source": [
    "### Agente"
   ]
  },
  {
   "cell_type": "code",
   "execution_count": 47,
   "metadata": {},
   "outputs": [],
   "source": [
    "from langchain.chains.conversation.memory import ConversationBufferWindowMemory\n",
    "\n",
    "# conversational agent memory\n",
    "memory = ConversationBufferWindowMemory(\n",
    "    memory_key = \"chat_history\",\n",
    "    k = 3,\n",
    "    return_messages=True\n",
    ")\n",
    "\n",
    "tools = [seller_tool]\n",
    "\n",
    "from langchain.agents import initialize_agent\n",
    "\n",
    "conversational_agent = initialize_agent(\n",
    "    agent = \"chat-conversational-react-description\",\n",
    "    tools = tools,\n",
    "    llm = model,\n",
    "    verbose = True,\n",
    "    max_iterations = 3,\n",
    "    early_stopping_method = \"generate\",\n",
    "    memory = memory\n",
    ")"
   ]
  },
  {
   "cell_type": "markdown",
   "metadata": {},
   "source": [
    "### Otros"
   ]
  },
  {
   "cell_type": "code",
   "execution_count": 48,
   "metadata": {},
   "outputs": [
    {
     "name": "stdout",
     "output_type": "stream",
     "text": [
      "\n",
      "\n",
      "\u001b[1m> Entering new AgentExecutor chain...\u001b[0m\n",
      "\u001b[32;1m\u001b[1;3m```json\n",
      "{\n",
      "    \"action\": \"velocidades_estrellas\",\n",
      "    \"action_input\": \"velocidad radial de una estrella en relación con el Sol\"\n",
      "}\n",
      "```\u001b[0m\n",
      "Observation: \u001b[36;1m\u001b[1;3mcontent='La velocidad radial de una estrella es la componente de su velocidad que apunta directamente hacia o se aleja de un observador, en este caso, el Sol. Se mide a lo largo de la línea de visión entre el observador y la estrella. Esta velocidad se determina principalmente utilizando el efecto Doppler, que provoca un desplazamiento en las líneas espectrales de la estrella.\\n\\nSi la estrella se está acercando al Sol, sus líneas espectrales se desplazan hacia el azul (conocido como corrimiento al azul), mientras que si se está alejando, se desplazan hacia el rojo (corrimiento al rojo). Estas mediciones permiten a los astrónomos calcular la velocidad radial de la estrella con respecto al Sol.\\n\\nLa velocidad radial es solo una parte de la velocidad espacial total de una estrella, que también incluye componentes perpendiculares a la línea de visión (movimiento propio). La combinación de estos datos permite a los astrónomos determinar la trayectoria y el movimiento completo de una estrella en la galaxia.' additional_kwargs={'refusal': None} response_metadata={'token_usage': {'completion_tokens': 207, 'prompt_tokens': 42, 'total_tokens': 249, 'prompt_tokens_details': {'cached_tokens': 0}, 'completion_tokens_details': {'reasoning_tokens': 0}}, 'model_name': 'gpt-4o-2024-08-06', 'system_fingerprint': 'fp_2f406b9113', 'finish_reason': 'stop', 'logprobs': None} id='run-182c045a-50d7-44c9-8d7b-ebff65b52994-0' usage_metadata={'input_tokens': 42, 'output_tokens': 207, 'total_tokens': 249, 'input_token_details': {'cache_read': 0}, 'output_token_details': {'reasoning': 0}}\u001b[0m\n",
      "Thought:\u001b[32;1m\u001b[1;3m```json\n",
      "{\n",
      "    \"action\": \"Final Answer\",\n",
      "    \"action_input\": \"La velocidad radial de una estrella es la parte de su velocidad que se dirige directamente hacia o se aleja de un observador, como el Sol. Esta velocidad se mide a lo largo de la línea de visión entre el observador y la estrella. Para determinarla, se utiliza el efecto Doppler, que causa un cambio en las líneas espectrales de la estrella: si la estrella se acerca al Sol, sus líneas espectrales se desplazan hacia el azul, y si se aleja, se desplazan hacia el rojo. Estas mediciones permiten calcular la velocidad radial de la estrella con respecto al Sol. Cabe mencionar que la velocidad radial es solo una parte de la velocidad total de una estrella, que también incluye el movimiento perpendicular a la línea de visión.\"\n",
      "}\n",
      "```\u001b[0m\n",
      "\n",
      "\u001b[1m> Finished chain.\u001b[0m\n"
     ]
    }
   ],
   "source": [
    "Input = \"¿Cuál es la velocidad radial de una estrella en relación con el Sol?\"\n",
    "Output = conversational_agent(Input)"
   ]
  },
  {
   "cell_type": "code",
   "execution_count": 49,
   "metadata": {},
   "outputs": [
    {
     "name": "stdout",
     "output_type": "stream",
     "text": [
      "Humano: ¿Cuál es la velocidad radial de una estrella en relación con el Sol?\n",
      "==========\n",
      "AI: La velocidad radial de una estrella es la parte de su velocidad que se dirige directamente hacia o se aleja de un observador, como el Sol. Esta velocidad se mide a lo largo de la línea de visión entre el observador y la estrella. Para determinarla, se utiliza el efecto Doppler, que causa un cambio en las líneas espectrales de la estrella: si la estrella se acerca al Sol, sus líneas espectrales se desplazan hacia el azul, y si se aleja, se desplazan hacia el rojo. Estas mediciones permiten calcular la velocidad radial de la estrella con respecto al Sol. Cabe mencionar que la velocidad radial es solo una parte de la velocidad total de una estrella, que también incluye el movimiento perpendicular a la línea de visión.\n",
      "==========\n"
     ]
    }
   ],
   "source": [
    "print(f\"Humano: {Input}\")\n",
    "print(\"=\"*10)\n",
    "print(f\"AI: {Output['output']}\")\n",
    "print(\"=\"*10)"
   ]
  },
  {
   "cell_type": "code",
   "execution_count": 50,
   "metadata": {},
   "outputs": [
    {
     "data": {
      "text/plain": [
       "[]"
      ]
     },
     "execution_count": 50,
     "metadata": {},
     "output_type": "execute_result"
    }
   ],
   "source": [
    "Output['chat_history']"
   ]
  }
 ],
 "metadata": {
  "kernelspec": {
   "display_name": "Python 3",
   "language": "python",
   "name": "python3"
  },
  "language_info": {
   "codemirror_mode": {
    "name": "ipython",
    "version": 3
   },
   "file_extension": ".py",
   "mimetype": "text/x-python",
   "name": "python",
   "nbconvert_exporter": "python",
   "pygments_lexer": "ipython3",
   "version": "3.11.9"
  }
 },
 "nbformat": 4,
 "nbformat_minor": 2
}
